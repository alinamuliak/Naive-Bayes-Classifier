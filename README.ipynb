{
  "cells": [
    {
      "cell_type": "markdown",
      "metadata": {
        "id": "view-in-github",
        "colab_type": "text"
      },
      "source": [
        "<a href=\"https://colab.research.google.com/github/alinamuliak/Naive-Bayes-Classifier/blob/main/README.ipynb\" target=\"_parent\"><img src=\"https://colab.research.google.com/assets/colab-badge.svg\" alt=\"Open In Colab\"/></a>"
      ]
    },
    {
      "cell_type": "markdown",
      "source": [
        "# Naive Bayes Classifier\n",
        "\n",
        "### Work-breakdown structure\n",
        "[Karyna Volokhatiuk](https://github.com/karyna-volokhatiuk) - `process_data`, `fit`;</br>\n",
        "[Alina Muliak](https://github.com/alinamuliak) - `predict_prob`, `predict`;</br>\n",
        "[Olena Karaim](https://github.com/karakumm) - `score`, conclusions.\n",
        "\n",
        "## Introduction\n",
        "One of Bayes theorem applications is Naive Bayes classifier,\n",
        "which is a probabilistic classifier whose aim is to determine which class some observation probably belongs by using the Bayes formula:\n",
        "\n",
        "$$P(\\text{class∣observation})=\\frac{P(\\text{observation∣class})P(\\text{class})}{P(\\text{observation})}$$\n",
        "\n",
        "Under the strong independence assumption, one can calculate  $P(\\text{observation∣class})$  as\n",
        "$P(\\text{observation})=∏_{i=1}^nP(\\text{feature}_i)$, \n",
        "where  `n`  is the total number of features describing a given observation. Thus,  $P(\\text{class|observation})  now can be calculated as\n",
        "\n",
        "$$P(\\text{class∣observation})=P(\\text{class})×∏_{i=1}^n\\frac{P(\\text{feature}_i∣\\text{class})}{P(\\text{feature}_i)}$$\n",
        "\n",
        "## Data description\n",
        "Data sets consists of citations of three famous writers: Edgar Alan Poe, Mary Wollstonecraft Shelley and HP Lovecraft. The task with this data set is to classify a piece of text with the author who was more likely to write it.\n",
        "\n",
        "## Implementation\n",
        "- data pre-processing\n",
        "- implementation of BayesianClassifier\n",
        "- testing\n",
        "\n",
        "### A few sentences about implementation of classifier\n",
        "In our classifier the following methods are realized: `fit`, `predict_prob`, `predict` and `score`.\n",
        "In method fit using our databases we fill in all the necessary attributes for calculating\n",
        "our probabilities, such as\n",
        "- `num_of_citations` - the dictionary, where keys are authors and values are the total number\n",
        "of citations for each author; \n",
        "- `count_num_of_each_word` - a dictionary, where again authors are keys and values are dictionaries with the numbers(value)of using each word(key) for each author;\n",
        "- `count_all_words` - a dictionary which represents the total number of words each author uses.\n",
        "</br></br>In `predict_prob` method we calculate the probability of a given author to be a true author for a given message.\n",
        "This method returns the numerator for Bayes formula. In predict method we compare the probabilities for each author to\n",
        "be an author of a given message and return the name of author with the highest calculated probability.\n",
        "</br>And finally, method `score` returns the accuracy of our calculations on the given data and labels, represented as a percentage.\n",
        "\n",
        "## Conclusions\n",
        "In order to make predictions about the author, whose quotes are cited in out\n",
        "given message, we use Naive Bayes classifier.\n",
        "Firstly we calculate the probability that given author has written any quote from\n",
        "database, using formula $P(\\text{author})$, where we divide the number of citations of this author by total number\n",
        "of citations. To make our program more efficient we use dictionaries to save the number of times each author\n",
        "has used each word. Then we calculate the conditional probability that the quote was written by a given author,\n",
        "so that the probability cannot be equal to zero. So, as in Bayes formula,\n",
        "in numerator we multiply $P(\\text{word|author})$ by $P(\\text{author})$.\n",
        "We ignore denominator for Bayes formula since for all authors they will be the same,\n",
        "and it would be enough to compare only their numerators.\n",
        "After this we create dictionary, where our authors are the keys and then in loop calculate\n",
        "the probability for each author to have written the message and find the maximum one,\n",
        "and it would be our wanted author.\n",
        "\n",
        "### Pros and cons of the method\n",
        "We find the implemented method quite efficient, moreover we improved our efficiency using dictionaries to save the number\n",
        "of times each author has used each word. Firstly we tried the bag-of-words method with 0 and 1, representing them as vectors,\n",
        "but unfortunately we refused to use this method because of long-time search, and also it needs a lot of memory,\n",
        "while time complexity of search using dictionaries is O(1). But we also defined one drawback:\n",
        "in our method similar words with common roots, or the same words but with different endings,\n",
        "or plural and singular form of one word are considered to be different.\n",
        "Unfortunately such improvement of our program needs more knowledge of artificial intelligence.\n",
        "\n",
        "## Results\n",
        "We have checked the efficiency of a trained model on the given test data and labels.\n",
        "In our case the accuracy of the method is 83.3%, which is high enough.\n",
        "So we have made a conclusion that the implementation of method of calculating probability using Naive Bayes classifier\n",
        "is suitable and efficient, which frankly speaking exceeded our expectations.\n"
      ],
      "metadata": {
        "id": "GD1Rci0cAnay"
      }
    }
  ],
  "metadata": {
    "colab": {
      "collapsed_sections": [],
      "name": "readme",
      "toc_visible": true,
      "provenance": [],
      "include_colab_link": true
    },
    "kernelspec": {
      "display_name": "Python 3",
      "name": "python3"
    }
  },
  "nbformat": 4,
  "nbformat_minor": 0
}